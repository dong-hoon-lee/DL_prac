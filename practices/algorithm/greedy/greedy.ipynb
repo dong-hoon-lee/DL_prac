{
 "cells": [
  {
   "cell_type": "markdown",
   "metadata": {},
   "source": [
    "설탕 배달\n",
    "- https://www.acmicpc.net/problem/2839"
   ]
  },
  {
   "cell_type": "code",
   "execution_count": 22,
   "metadata": {},
   "outputs": [
    {
     "name": "stdout",
     "output_type": "stream",
     "text": [
      "1\n"
     ]
    }
   ],
   "source": [
    "a = int(input())\n",
    "\n",
    "s_list = [5, 3]\n",
    "cnt = 0\n",
    "\n",
    "while a >= 0:\n",
    "    if a%5 == 0:\n",
    "        cnt += (a//5)\n",
    "        print(cnt)\n",
    "        break\n",
    "    a -= 3\n",
    "    cnt += 1\n",
    "    \n",
    "else:\n",
    "    print(-1)"
   ]
  },
  {
   "cell_type": "code",
   "execution_count": 12,
   "metadata": {},
   "outputs": [
    {
     "data": {
      "text/plain": [
       "2"
      ]
     },
     "execution_count": 12,
     "metadata": {},
     "output_type": "execute_result"
    }
   ],
   "source": [
    "6//3"
   ]
  },
  {
   "cell_type": "markdown",
   "metadata": {},
   "source": [
    "동전 0\n",
    "- https://www.acmicpc.net/problem/11047"
   ]
  },
  {
   "cell_type": "code",
   "execution_count": 9,
   "metadata": {},
   "outputs": [
    {
     "data": {
      "text/plain": [
       "6"
      ]
     },
     "execution_count": 9,
     "metadata": {},
     "output_type": "execute_result"
    }
   ],
   "source": [
    "coin, money = map(int, input().split())\n",
    "coin_list = []\n",
    "cnt = 0\n",
    "\n",
    "for i in range(coin):\n",
    "    coin_list.append(int(input()))\n",
    "    \n",
    "coin_list.sort(reverse=True)\n",
    "    \n",
    "for c in coin_list:\n",
    "    cnt += (money // c)\n",
    "    money %= c\n",
    "    \n",
    "print(cnt)"
   ]
  },
  {
   "cell_type": "markdown",
   "metadata": {},
   "source": [
    "회의실 배정\n",
    "- https://www.acmicpc.net/problem/1931"
   ]
  },
  {
   "cell_type": "code",
   "execution_count": 45,
   "metadata": {},
   "outputs": [
    {
     "name": "stdout",
     "output_type": "stream",
     "text": [
      "3\n"
     ]
    }
   ],
   "source": [
    "meetings = int(input())\n",
    "time_list = []\n",
    "cnt = 1\n",
    "\n",
    "for i in range(meetings):\n",
    "    a, b = map(int, input().split())\n",
    "    time_list.append([a, b])\n",
    "\n",
    "time_sorted = sorted(time_list, key= lambda x: x[0])\n",
    "time_sorted = sorted(time_list, key= lambda x: x[1])\n",
    "ending = time_sorted[0][1]\n",
    "\n",
    "for i in range(1, meetings):\n",
    "    if time_sorted[i][0] >= ending:\n",
    "        cnt += 1\n",
    "        ending = time_sorted[i][1]\n",
    "    \n",
    "print(cnt)"
   ]
  },
  {
   "cell_type": "code",
   "execution_count": 18,
   "metadata": {},
   "outputs": [
    {
     "data": {
      "text/plain": [
       "array([0, 1])"
      ]
     },
     "execution_count": 18,
     "metadata": {},
     "output_type": "execute_result"
    }
   ],
   "source": [
    "import numpy as np\n",
    "np.argmax(time_list, axis=1)"
   ]
  },
  {
   "cell_type": "code",
   "execution_count": 48,
   "metadata": {},
   "outputs": [
    {
     "name": "stdout",
     "output_type": "stream",
     "text": [
      "1 4\n",
      "3 5\n",
      "0 6\n",
      "5 7\n",
      "3 8\n",
      "6 10\n",
      "8 11\n",
      "8 12\n",
      "2 13\n",
      "12 14\n",
      "0 4\n"
     ]
    }
   ],
   "source": [
    "for i, j in time_list:\n",
    "    print(i, j)"
   ]
  },
  {
   "cell_type": "code",
   "execution_count": null,
   "metadata": {},
   "outputs": [],
   "source": []
  }
 ],
 "metadata": {
  "kernelspec": {
   "display_name": "Python 3.9.13 64-bit",
   "language": "python",
   "name": "python3"
  },
  "language_info": {
   "codemirror_mode": {
    "name": "ipython",
    "version": 3
   },
   "file_extension": ".py",
   "mimetype": "text/x-python",
   "name": "python",
   "nbconvert_exporter": "python",
   "pygments_lexer": "ipython3",
   "version": "3.9.13"
  },
  "orig_nbformat": 4,
  "vscode": {
   "interpreter": {
    "hash": "b0fa6594d8f4cbf19f97940f81e996739fb7646882a419484c72d19e05852a7e"
   }
  }
 },
 "nbformat": 4,
 "nbformat_minor": 2
}
